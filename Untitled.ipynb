{
 "cells": [
  {
   "cell_type": "code",
   "execution_count": 2,
   "metadata": {},
   "outputs": [],
   "source": [
    "import requests\n",
    "import json\n",
    "import uuid\n",
    "import time\n",
    "signalStation = \"http://biohack.personalhealthtrain.net/\" \n",
    "\n",
    "def getStations(signalStation):\n",
    "    response = requests.get(signalStation + \"/client\")\n",
    "    return json.loads(response.text)\n",
    "\n",
    "# def defineTrain(image, inputVars, runId):\n",
    "#     return {\n",
    "#         \"image\": image,\n",
    "#         \"inputString\": (\"%s\" % json.dumps(inputVars)),\n",
    "#         \"runId\": runId\n",
    "#     }\n",
    "\n",
    "# def requestExecution(signalStation, clientId, taskDescription):\n",
    "#     response = requests.post(signalStation + \"/client/\" + str(clientId) + \"/task/add\", json=taskDescription)\n",
    "#     taskId = json.loads(response.text)[\"taskId\"]\n",
    "#     return taskId\n",
    "\n",
    "# def getExecutionResult(signalStation, clientId, taskId, wait=True):\n",
    "#     url = signalStation + \"/client/\" + str(clientId) + \"/task/\" + str(taskId) + \"/result\"\n",
    "#     jsonResult = json.loads(requests.get(url).text)\n",
    "    \n",
    "#     while len(jsonResult)==0 & wait:\n",
    "#         time.sleep(2)\n",
    "#         jsonResult = json.loads(requests.get(url).text)\n",
    "    \n",
    "#     return jsonResult"
   ]
  },
  {
   "cell_type": "code",
   "execution_count": 3,
   "metadata": {},
   "outputs": [
    {
     "data": {
      "text/plain": [
       "[{'country': 'The Netherlands',\n",
       "  'email': 'j.vansoest@maastrichtuniversity.nl',\n",
       "  'id': 1,\n",
       "  'institute': 'Maastricht University',\n",
       "  'ip': '192.168.176.1',\n",
       "  'last_seen': '2019-08-29 09:23:09.171462',\n",
       "  'name': 'Trusted Secure Environment (TSE)'},\n",
       " {'country': 'The Netherlands',\n",
       "  'email': 'j.vansoest@maastrichtuniversity.nl',\n",
       "  'id': 2,\n",
       "  'institute': 'Maastricht University',\n",
       "  'ip': '192.168.176.1',\n",
       "  'last_seen': '2019-08-29 09:23:10.285768',\n",
       "  'name': 'Data Party A'},\n",
       " {'country': 'The Netherlands',\n",
       "  'email': 'j.vansoest@maastrichtuniversity.nl',\n",
       "  'id': 3,\n",
       "  'institute': 'Maastricht University',\n",
       "  'ip': '192.168.176.1',\n",
       "  'last_seen': '2019-08-29 09:23:10.280511',\n",
       "  'name': 'Data Party B'}]"
      ]
     },
     "execution_count": 3,
     "metadata": {},
     "output_type": "execute_result"
    }
   ],
   "source": [
    "getStations(signalStation)"
   ]
  },
  {
   "cell_type": "code",
   "execution_count": null,
   "metadata": {},
   "outputs": [],
   "source": []
  }
 ],
 "metadata": {
  "kernelspec": {
   "display_name": "Python 3",
   "language": "python",
   "name": "python3"
  },
  "language_info": {
   "codemirror_mode": {
    "name": "ipython",
    "version": 3
   },
   "file_extension": ".py",
   "mimetype": "text/x-python",
   "name": "python",
   "nbconvert_exporter": "python",
   "pygments_lexer": "ipython3",
   "version": "3.6.8"
  }
 },
 "nbformat": 4,
 "nbformat_minor": 2
}
