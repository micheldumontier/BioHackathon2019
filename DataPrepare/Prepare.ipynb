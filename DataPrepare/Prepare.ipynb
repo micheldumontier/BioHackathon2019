{
 "cells": [
  {
   "cell_type": "code",
   "execution_count": 47,
   "metadata": {},
   "outputs": [],
   "source": [
    "import pandas as pd\n",
    "import numpy as np"
   ]
  },
  {
   "cell_type": "markdown",
   "metadata": {},
   "source": [
    "### Generate dataset with PI features ###"
   ]
  },
  {
   "cell_type": "code",
   "execution_count": 131,
   "metadata": {},
   "outputs": [],
   "source": [
    "df = pd.read_csv('Generated_Datasets/generated_data_5000.csv')\n",
    "df_PI = df[['housenum', 'zipcode', 'date_of_birth', 'sex']]"
   ]
  },
  {
   "cell_type": "code",
   "execution_count": 89,
   "metadata": {},
   "outputs": [],
   "source": [
    "# generate regression dataset\n",
    "from sklearn.datasets import make_regression\n",
    "X, y = make_regression(n_samples=100000, n_features=20, noise=20)"
   ]
  },
  {
   "cell_type": "code",
   "execution_count": 122,
   "metadata": {},
   "outputs": [
    {
     "data": {
      "text/plain": [
       "array([-1.61921546e-02,  1.61203650e-01,  5.56115928e+01,  4.97180020e-02,\n",
       "        6.20758871e+00, -1.02418210e-02, -6.13380255e-02,  4.07329675e+01,\n",
       "        2.88240696e+01, -1.54449588e-01,  1.38528428e+01,  2.07653263e-01,\n",
       "        1.86176669e+01,  8.25151120e-02,  6.71174638e+01,  5.78833542e+01,\n",
       "       -7.03912476e-02,  9.59456696e+01, -1.50349272e-03,  7.70318353e+01])"
      ]
     },
     "execution_count": 122,
     "metadata": {},
     "output_type": "execute_result"
    }
   ],
   "source": [
    "from sklearn.linear_model import LinearRegression\n",
    "reg = LinearRegression().fit(X, y)\n",
    "reg.coef_\n",
    "# reg.score(X, y)"
   ]
  },
  {
   "cell_type": "code",
   "execution_count": 91,
   "metadata": {},
   "outputs": [],
   "source": [
    "gen_data = pd.concat([pd.DataFrame.from_records(X), pd.Series(y)], axis=1, join='inner')\n",
    "gen_data.columns = ['var1','var2','var3','var4','var5',\\\n",
    "                   'var6','var7','var8','var9','var10',\\\n",
    "                   'var11','var12','var13','var14','var15',\\\n",
    "                   'var16','var17','var18','var19','var20', 'Target']\n",
    "final = pd.concat([df_PI,gen_data], axis=1, join='inner')\n",
    "final.to_csv('generated_data_100000.csv', index=None)\n"
   ]
  },
  {
   "cell_type": "markdown",
   "metadata": {},
   "source": [
    "*****************************************************************"
   ]
  },
  {
   "cell_type": "code",
   "execution_count": null,
   "metadata": {},
   "outputs": [],
   "source": [
    "### Slipt Data into multiple data parties ### "
   ]
  },
  {
   "cell_type": "code",
   "execution_count": 119,
   "metadata": {},
   "outputs": [],
   "source": [
    "import pandas as pd\n",
    "import numpy as np\n",
    "\n",
    "num_of_party = 4\n",
    "\n",
    "df = pd.read_csv('generated_data_5000.csv')\n",
    "variables = df.columns[4:]\n",
    "PI = df[df.columns[0:4]]\n",
    "\n",
    "sets = int(len(variables)/num_of_party)\n",
    "\n",
    "for i in range(0, num_of_party):\n",
    "    if i == num_of_party-1:\n",
    "        df_sub = df[variables[int(i*sets):]]\n",
    "    else:\n",
    "        df_sub = df[variables[int(i*sets): int((i+1)*sets)]]\n",
    "    save_df = pd.concat([PI, df_sub], axis=1, join='inner')\n",
    "    save_df.to_csv('data_party_%d.csv' %(i+1), index=None)"
   ]
  }
 ],
 "metadata": {
  "kernelspec": {
   "display_name": "Python 3",
   "language": "python",
   "name": "python3"
  },
  "language_info": {
   "codemirror_mode": {
    "name": "ipython",
    "version": 3
   },
   "file_extension": ".py",
   "mimetype": "text/x-python",
   "name": "python",
   "nbconvert_exporter": "python",
   "pygments_lexer": "ipython3",
   "version": "3.6.8"
  }
 },
 "nbformat": 4,
 "nbformat_minor": 2
}
